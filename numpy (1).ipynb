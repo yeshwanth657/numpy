{
 "cells": [
  {
   "cell_type": "code",
   "execution_count": 1,
   "metadata": {},
   "outputs": [],
   "source": [
    "# numpy ? -- multidimensional container for generic data\n",
    "# it is nothing but matrices in mathematics\n",
    "# numpy is the core library for scientific computing in python\n",
    "# provides a high-performance multi-dimensional array object, and tools for working with these arrays.\n",
    "import numpy as np"
   ]
  },
  {
   "cell_type": "code",
   "execution_count": 2,
   "metadata": {},
   "outputs": [
    {
     "name": "stdout",
     "output_type": "stream",
     "text": [
      "[1 2 3]\n",
      "<class 'numpy.ndarray'>\n",
      "\n",
      "[[4 5 6]\n",
      " [7 8 9]]\n",
      "<class 'numpy.ndarray'>\n"
     ]
    }
   ],
   "source": [
    "a=np.array([1,2,3]) # single dimensional array\n",
    "print(a)\n",
    "print(type(a))\n",
    "print()\n",
    "b=np.array([(4,5,6),(7,8,9)]) # two dimensional array\n",
    "print(b)\n",
    "print(type(b))"
   ]
  },
  {
   "cell_type": "code",
   "execution_count": 21,
   "metadata": {},
   "outputs": [
    {
     "name": "stdout",
     "output_type": "stream",
     "text": [
      "[0, 1, 2, 3, 4, 5, 6, 7, 8, 9]\n",
      "List: [0, 1, 2, 3, 4, 5, 6, 7, 8, 9]\n",
      "numpy array: [0 1 2 3 4 5 6 7 8 9]\n"
     ]
    }
   ],
   "source": [
    "# how numpy looks and list looks\n",
    "l1=[i for i in range(0,10)])\n",
    "a1=np.arange(10)\n",
    "print(f\"List: {l1}\")\n",
    "print(f\"numpy array: {a1}\")"
   ]
  },
  {
   "cell_type": "code",
   "execution_count": 19,
   "metadata": {},
   "outputs": [],
   "source": [
    "# numpy VS lists---numpy takes less memory ,it is fast and convinient"
   ]
  },
  {
   "cell_type": "code",
   "execution_count": 22,
   "metadata": {},
   "outputs": [
    {
     "name": "stdout",
     "output_type": "stream",
     "text": [
      "memory for list: 28000\n",
      "memory for numpy: 4000\n"
     ]
    }
   ],
   "source": [
    "import sys\n",
    "# list\n",
    "S=[i for i in range(0,1000)]  # range function returns 1000 values from 0 to 999 in the form of list\n",
    "# size of list = size of one element * length\n",
    "print(f\"memory for list: {sys.getsizeof(1)*len(S)}\")\n",
    "# numpy array\n",
    "D=np.arange(1000) # arange is similar to range but returns values in the form of array\n",
    "# size of numpy is\n",
    "print(f\"memory for numpy: {D.size*D.itemsize}\")"
   ]
  },
  {
   "cell_type": "code",
   "execution_count": 41,
   "metadata": {},
   "outputs": [
    {
     "name": "stdout",
     "output_type": "stream",
     "text": [
      "8.196353912353516\n",
      "2.0017623901367188\n"
     ]
    }
   ],
   "source": [
    "import time\n",
    "\n",
    "SIZE=100000\n",
    "\n",
    "l1=[i for i in range(SIZE)] # list-1\n",
    "l2=[i for i in range(SIZE)] # list-2\n",
    "\n",
    "a1=np.arange(SIZE) # array-1\n",
    "a2=np.arange(SIZE) # array-2\n",
    "\n",
    "start=time.time()\n",
    "\n",
    "result=[(x+y) for (x,y) in zip(l1,l2)]\n",
    "# time for addition of lists\n",
    "\n",
    "print((time.time()-start)*1000) # to convert to milliseconds\n",
    "\n",
    "#time for adding arrays\n",
    "start=time.time()\n",
    "result=a1+a2\n",
    "\n",
    "print((time.time()-start)*1000) # to convert to milliseconds\n",
    "\n",
    "# i.e., numpy is fast in computing\n"
   ]
  },
  {
   "cell_type": "code",
   "execution_count": null,
   "metadata": {},
   "outputs": [],
   "source": [
    "# numpy operations\n",
    "# find the dimension of the array\n",
    "# find the byte size of the array\n",
    "# find the data type of the elements"
   ]
  },
  {
   "cell_type": "code",
   "execution_count": 42,
   "metadata": {},
   "outputs": [
    {
     "name": "stdout",
     "output_type": "stream",
     "text": [
      "2\n",
      "4\n",
      "int32\n"
     ]
    }
   ],
   "source": [
    "a=np.array([(1,2,3),(3,4,5)])\n",
    "print(a.ndim) # ndim--returns the dimension of the array\n",
    "print(a.itemsize) # itemsize--returns the byte size of the each element\n",
    "print(a.dtype)  #  prints the data type of elements"
   ]
  },
  {
   "cell_type": "code",
   "execution_count": 50,
   "metadata": {},
   "outputs": [
    {
     "name": "stdout",
     "output_type": "stream",
     "text": [
      "4\n",
      "(4,)\n",
      "15\n",
      "(3, 5)\n"
     ]
    }
   ],
   "source": [
    "a=np.array([1,2,3,4])\n",
    "print(a.size) # size-- returns the number of elemnts in complete array\n",
    "print(a.shape) # shape--returns the rows and column number\n",
    "\n",
    "b=np.array([(1,2,3,4,1),(4,5,6,9,3),(7,8,9,4,8)])\n",
    "print(b.size)\n",
    "print(b.shape)"
   ]
  },
  {
   "cell_type": "code",
   "execution_count": 56,
   "metadata": {},
   "outputs": [
    {
     "name": "stdout",
     "output_type": "stream",
     "text": [
      "[[1 2 3 4]\n",
      " [5 6 7 8]\n",
      " [3 4 5 6]\n",
      " [4 5 6 7]]\n",
      "(4, 4)\n",
      "\n",
      "(2, 8)\n",
      "[[1 2 3 4 5 6 7 8]\n",
      " [3 4 5 6 4 5 6 7]]\n",
      "\n",
      "[[1 2]\n",
      " [3 4]\n",
      " [5 6]\n",
      " [7 8]\n",
      " [3 4]\n",
      " [5 6]\n",
      " [4 5]\n",
      " [6 7]]\n",
      "(8, 2)\n"
     ]
    }
   ],
   "source": [
    "# reshape -- \n",
    "a=np.array([(1,2,3,4),(5,6,7,8),(3,4,5,6),(4,5,6,7)])\n",
    "print(a)\n",
    "print(a.shape)\n",
    "print()\n",
    "a=a.reshape(2,8)\n",
    "print(a.shape)\n",
    "print(a)\n",
    "print()\n",
    "a=a.reshape(8,2)\n",
    "print(a)\n",
    "print(a.shape)"
   ]
  },
  {
   "cell_type": "code",
   "execution_count": 59,
   "metadata": {},
   "outputs": [
    {
     "name": "stdout",
     "output_type": "stream",
     "text": [
      "8\n",
      "[3 5 7]\n",
      "[2 4]\n"
     ]
    }
   ],
   "source": [
    "# slicing\n",
    "a=np.array([(1,2),(3,4),(5,6),(7,8)])\n",
    "print(a[3,1]) # print element from 4 th row and 2 nd column\n",
    "print(a[1:,0]) # prints elements from all rows from first row and first column\n",
    "print(a[0:2,1]) # prints elements from row 1 to 2 excludes 3 and second column"
   ]
  },
  {
   "cell_type": "code",
   "execution_count": 65,
   "metadata": {},
   "outputs": [
    {
     "name": "stdout",
     "output_type": "stream",
     "text": [
      "[1.         1.44444444 1.88888889 2.33333333 2.77777778 3.22222222\n",
      " 3.66666667 4.11111111 4.55555556 5.        ]\n",
      "[1.  1.5 2.  2.5 3. ]\n"
     ]
    }
   ],
   "source": [
    "# line spacing \n",
    "a=np.linspace(1,5,10)# prints 10 values from 1 to 5 with equal space ie. difference between any two numbers is same\n",
    "print(a)\n",
    "a=np.linspace(1,3,5)\n",
    "print(a)"
   ]
  },
  {
   "cell_type": "code",
   "execution_count": 66,
   "metadata": {},
   "outputs": [
    {
     "name": "stdout",
     "output_type": "stream",
     "text": [
      "9\n",
      "1\n",
      "45\n"
     ]
    }
   ],
   "source": [
    "# finding max.and min. and sum element\n",
    "a=np.array([(1,2,3),(4,5,6),(7,8,9)])\n",
    "print(a.max())\n",
    "print(a.min())\n",
    "print(a.sum())"
   ]
  },
  {
   "cell_type": "code",
   "execution_count": 67,
   "metadata": {},
   "outputs": [
    {
     "name": "stdout",
     "output_type": "stream",
     "text": [
      "[ 5  7  9 14]\n",
      "[11 24]\n"
     ]
    }
   ],
   "source": [
    "# rows are called as axis-1 and columns are called axis-0 in numpy\n",
    "a=np.array([(1,2,3,5),(4,5,6,9)])\n",
    "print(a.sum(axis=0))\n",
    "print(a.sum(axis=1))"
   ]
  },
  {
   "cell_type": "code",
   "execution_count": 69,
   "metadata": {},
   "outputs": [
    {
     "name": "stdout",
     "output_type": "stream",
     "text": [
      "2.29128784747792\n"
     ]
    }
   ],
   "source": [
    "# standard deviation of numpy\n",
    "# standard deviation -- finding the mean and then finding how much each element has deviated from that mean\n",
    "a=np.array([(1,2,3,4),(5,6,7,8)])\n",
    "print(a.std())\n"
   ]
  },
  {
   "cell_type": "code",
   "execution_count": 68,
   "metadata": {},
   "outputs": [
    {
     "name": "stdout",
     "output_type": "stream",
     "text": [
      "[[1.         1.41421356 1.73205081 2.        ]\n",
      " [2.23606798 2.44948974 2.64575131 2.82842712]]\n"
     ]
    }
   ],
   "source": [
    "# printing the square root of each element in the numpy array\n",
    "a=np.array([(1,2,3,4),(5,6,7,8)])\n",
    "print(np.sqrt(a))"
   ]
  },
  {
   "cell_type": "code",
   "execution_count": 72,
   "metadata": {},
   "outputs": [
    {
     "name": "stdout",
     "output_type": "stream",
     "text": [
      "[[ 6  8 12]\n",
      " [10 12  6]]\n",
      "\n",
      "[[0.2        0.33333333 0.33333333]\n",
      " [0.42857143 0.5        5.        ]]\n",
      "\n",
      "[[-4 -4 -6]\n",
      " [-4 -4  4]]\n",
      "\n",
      "[[ 5 12 27]\n",
      " [21 32  5]]\n"
     ]
    }
   ],
   "source": [
    "a=np.array([(1,2,3),(3,4,5)])\n",
    "b=np.array([(5,6,9),(7,8,1)])\n",
    "print(a+b)\n",
    "print()\n",
    "print(a/b)\n",
    "print()\n",
    "print(a-b)\n",
    "print()\n",
    "print(a*b)"
   ]
  },
  {
   "cell_type": "code",
   "execution_count": 75,
   "metadata": {},
   "outputs": [
    {
     "name": "stdout",
     "output_type": "stream",
     "text": [
      "vertical stocking....\n",
      "[[1 2 3]\n",
      " [3 4 5]\n",
      " [5 6 9]\n",
      " [7 8 1]]\n",
      "horizontal stocking....\n",
      "[[1 2 3 5 6 9]\n",
      " [3 4 5 7 8 1]]\n"
     ]
    }
   ],
   "source": [
    "# vertical stacking of arrays --placing one array on the top of other\n",
    "# horizontal stocking--placinf arrays side by side\n",
    "print(\"vertical stocking....\")\n",
    "print(np.vstack((a,b)))\n",
    "print(\"horizontal stocking....\")\n",
    "print(np.hstack((a,b)))\n"
   ]
  },
  {
   "cell_type": "code",
   "execution_count": 76,
   "metadata": {},
   "outputs": [
    {
     "name": "stdout",
     "output_type": "stream",
     "text": [
      "[1 2 3 3 4 5]\n"
     ]
    }
   ],
   "source": [
    "# converting the array to single column\n",
    "print(a.ravel())"
   ]
  },
  {
   "cell_type": "code",
   "execution_count": 78,
   "metadata": {},
   "outputs": [
    {
     "name": "stdout",
     "output_type": "stream",
     "text": [
      "[1 2 3 3 4 5 5 6 9 7 8 1]\n"
     ]
    }
   ],
   "source": [
    "c=np.vstack((a,b))\n",
    "c=c.ravel()\n",
    "print(c)"
   ]
  },
  {
   "cell_type": "code",
   "execution_count": 81,
   "metadata": {},
   "outputs": [
    {
     "data": {
      "image/png": "[encoded data removed]",
      "text/plain": [
       "<Figure size 432x288 with 2 Axes>"
      ]
     },
     "metadata": {
      "needs_background": "light"
     },
     "output_type": "display_data"
    }
   ],
   "source": [
    "# ploting sine graph and cosine graph\n",
    "import matplotlib.pyplot as plt\n",
    "\n",
    "x=np.arange(0, 3*np.pi, 0.1)\n",
    "y=np.sin(x)\n",
    "plt.subplot(211)\n",
    "plt.plot(x,y,label=\"sine\",color=\"g\")\n",
    "\n",
    "z=np.cos(x)\n",
    "plt.subplot(212)\n",
    "plt.plot(x,z,label=\"cosine\",color=\"m\")\n",
    "\n",
    "plt.legend()\n",
    "plt.show()\n",
    "\n"
   ]
  },
  {
   "cell_type": "code",
   "execution_count": 90,
   "metadata": {},
   "outputs": [
    {
     "data": {
      "image/png": "[encoded data removed]",
      "text/plain": [
       "<Figure size 432x288 with 1 Axes>"
      ]
     },
     "metadata": {
      "needs_background": "light"
     },
     "output_type": "display_data"
    },
    {
     "data": {
      "image/png": "[encoded data removed]",
      "text/plain": [
       "<Figure size 432x288 with 1 Axes>"
      ]
     },
     "metadata": {
      "needs_background": "light"
     },
     "output_type": "display_data"
    },
    {
     "name": "stdout",
     "output_type": "stream",
     "text": [
      "<class 'module'>\n"
     ]
    }
   ],
   "source": [
    "x=np.arange(0, 3*np.pi, 0.1)\n",
    "y=np.sin(x)\n",
    "graph1=plt\n",
    "graph1.plot(x,y,color=\"c\")\n",
    "graph1.show()\n",
    "\n",
    "z=np.cos(x)\n",
    "graph2=plt\n",
    "graph2.plot(x,z,color=\"g\")\n",
    "graph2.show()\n",
    "\n",
    "print(type(graph1))"
   ]
  },
  {
   "cell_type": "code",
   "execution_count": 92,
   "metadata": {},
   "outputs": [
    {
     "name": "stdout",
     "output_type": "stream",
     "text": [
      "[[2.71828183e+00 7.38905610e+00 2.00855369e+01]\n",
      " [5.45981500e+01 4.03428793e+02 2.20264658e+04]]\n",
      "[[0.         0.69314718 1.09861229]\n",
      " [1.38629436 1.79175947 2.30258509]]\n",
      "[[0.         0.30103    0.47712125]\n",
      " [0.60205999 0.77815125 1.        ]]\n",
      "[[0.         1.         1.5849625 ]\n",
      " [2.         2.5849625  3.32192809]]\n"
     ]
    }
   ],
   "source": [
    "# performing exponential function and logarithmic function using numpy\n",
    "a=np.array([(1,2,3),(4,6,10)])\n",
    "print(np.exp(a)) # calculates exponential values of a\n",
    "print(np.log(a)) # calculates ln value\n",
    "print(np.log10(a)) # calculates log base 10 value\n",
    "print(np.log2(a)) # calculates log of base 2 value"
   ]
  },
  {
   "cell_type": "code",
   "execution_count": null,
   "metadata": {},
   "outputs": [],
   "source": []
  }
 ],
 "metadata": {
  "kernelspec": {
   "display_name": "Python 3",
   "language": "python",
   "name": "python3"
  },
  "language_info": {
   "codemirror_mode": {
    "name": "ipython",
    "version": 3
   },
   "file_extension": ".py",
   "mimetype": "text/x-python",
   "name": "python",
   "nbconvert_exporter": "python",
   "pygments_lexer": "ipython3",
   "version": "3.8.5"
  }
 },
 "nbformat": 4,
 "nbformat_minor": 4
}
